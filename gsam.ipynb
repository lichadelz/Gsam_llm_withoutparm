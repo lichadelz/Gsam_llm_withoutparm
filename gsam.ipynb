{
 "cells": [
  {
   "cell_type": "code",
   "execution_count": 1,
   "metadata": {},
   "outputs": [
    {
     "name": "stderr",
     "output_type": "stream",
     "text": [
      "UserWarning: torch.meshgrid: in an upcoming release, it will be required to pass the indexing argument. (Triggered internally at ../aten/src/ATen/native/TensorShape.cpp:3526.)\n"
     ]
    },
    {
     "name": "stdout",
     "output_type": "stream",
     "text": [
      "final text_encoder_type: bert-base-uncased\n"
     ]
    },
    {
     "name": "stderr",
     "output_type": "stream",
     "text": [
      "FutureWarning: `resume_download` is deprecated and will be removed in version 1.0.0. Downloads always resume when possible. If you want to force a new download, use `force_download=True`.\n",
      "Some weights of the model checkpoint at bert-base-uncased were not used when initializing BertModel: ['cls.seq_relationship.bias', 'cls.predictions.transform.dense.bias', 'cls.predictions.transform.LayerNorm.bias', 'cls.predictions.transform.dense.weight', 'cls.predictions.bias', 'cls.seq_relationship.weight', 'cls.predictions.transform.LayerNorm.weight']\n",
      "- This IS expected if you are initializing BertModel from the checkpoint of a model trained on another task or with another architecture (e.g. initializing a BertForSequenceClassification model from a BertForPreTraining model).\n",
      "- This IS NOT expected if you are initializing BertModel from the checkpoint of a model that you expect to be exactly identical (initializing a BertForSequenceClassification model from a BertForSequenceClassification model).\n"
     ]
    }
   ],
   "source": [
    "from GSA import grounded_sam_simple_demo\n",
    "from GSA import automatic_label_simple_demo\n",
    "import metal_seg\n",
    "import gpt4v\n",
    "import json\n",
    "\n",
    "name_img='83.jpg'"
   ]
  },
  {
   "cell_type": "code",
   "execution_count": 2,
   "metadata": {},
   "outputs": [
    {
     "name": "stdout",
     "output_type": "stream",
     "text": [
      "{\n",
      "\"Type\": [\"banana\", \"canned food\"],\n",
      "\"Color\": [\"yellow\", \"gold\"],\n",
      "\"Material\": [\"plastic\", \"aluminum\"],\n",
      "\"Grasping method\": [\"gripping\", \"suction cup\"],\n",
      "\"Placement status\": [\"not\", \"not\"]\n",
      "}\n"
     ]
    }
   ],
   "source": [
    "contents=gpt4v.llm_getobj(name_img)\n",
    "content = json.loads(contents)"
   ]
  },
  {
   "cell_type": "code",
   "execution_count": 3,
   "metadata": {},
   "outputs": [
    {
     "name": "stdout",
     "output_type": "stream",
     "text": [
      "['banana', 'canned food']\n",
      "['yellow', 'gold']\n",
      "['plastic', 'aluminum']\n",
      "[]\n",
      "['yellow banana', 'gold canned food']\n"
     ]
    }
   ],
   "source": [
    "items = content[\"Type\"]\n",
    "colors = content[\"Color\"]\n",
    "materials=content[\"Material\"]\n",
    "# obj_list =['banana', 'red carton', 'spray bottle', 'clamp', 'scissors', 'wrench', 'canned food', 'key']\n",
    "print(items)\n",
    "print(colors)\n",
    "print(materials)\n",
    "obj_list = [f\"{color} {item}\" for item, color in zip(items, colors)]\n",
    "# 创建一个空列表来存储匹配的索引\n",
    "metal_indices = []\n",
    "\n",
    "# 遍历 materials 列表\n",
    "for index, material in enumerate(materials):\n",
    "    # 检查 material 是否包含 \"metal\"\n",
    "    if \"metal\" in material:\n",
    "        # 如果包含，将索引添加到 matching_indices 列表中\n",
    "        metal_indices.append(index)\n",
    "\n",
    "# 打印匹配的索引\n",
    "print(metal_indices)\n",
    "print(obj_list)\n"
   ]
  },
  {
   "cell_type": "code",
   "execution_count": 4,
   "metadata": {},
   "outputs": [],
   "source": [
    "# obj_list = ['silver metal']\n",
    "# obj_list = ['yellow banana', 'red and white canned food 1', 'red carton', 'blue and yellow canned food 2', 'blue and white spray bottle', 'black clamp', 'gray and orange scissors', 'silver wrench', 'silver key']"
   ]
  },
  {
   "cell_type": "code",
   "execution_count": 5,
   "metadata": {},
   "outputs": [
    {
     "name": "stdout",
     "output_type": "stream",
     "text": [
      "Before NMS: 3 boxes\n",
      "After NMS: 2 boxes\n",
      "labels= ['yellow banana 0.91', 'gold canned food 0.57']\n",
      "(2, 1279, 1707)\n"
     ]
    }
   ],
   "source": [
    "contours_all=grounded_sam_simple_demo.ground_sam(name_img,obj_list)\n",
    "metal_contours,mask=metal_seg.metal_seg(metal_indices)"
   ]
  },
  {
   "cell_type": "code",
   "execution_count": 8,
   "metadata": {},
   "outputs": [
    {
     "name": "stdout",
     "output_type": "stream",
     "text": [
      "x_center: 1025 y_center: 485\n",
      "theta(deg)= 15.292797960705427\n",
      "x_center: 545 y_center: 686\n",
      "theta(deg)= 33.19265224851114\n",
      "x_center: 1182 y_center: 868\n",
      "theta(deg)= 7.902650004030668\n"
     ]
    }
   ],
   "source": [
    "import numpy as np\n",
    "import cv2\n",
    "for i in range(len(contours_all)):\n",
    "    # print(\"class_name[i]:\",class_name[i])\n",
    "    # 轮廓质心计算\n",
    "    contours_i=contours_all[i]\n",
    "    contours_i=np.vstack(contours_i)\n",
    "    contour_2d=np.array(contours_i).reshape(-1, 2)\n",
    "    # print(\"contour_2d:\",contour_2d)\n",
    "    M = cv2.moments(contour_2d)\n",
    "    x_center = int(M[\"m10\"] / M[\"m00\"])\n",
    "    y_center = int(M[\"m01\"] / M[\"m00\"])\n",
    "    print(\"x_center:\",x_center,\"y_center:\",y_center)\n",
    "    img = np.zeros((720, 1280, 3), dtype=np.uint8)\n",
    "    img.fill(255)  # 以白色填充\n",
    "    mu00 = M[\"m00\"]\n",
    "    mu11 = M[\"m11\"] - x_center*M[\"m01\"]\n",
    "    mu20 = M[\"m20\"] - x_center*M[\"m10\"]\n",
    "    mu02 = M[\"m02\"] - y_center*M[\"m01\"]\n",
    "    theta = 1/2*np.arctan2(2*mu11/mu00, (mu20 - mu02)/mu00)\n",
    "    print(\"theta(deg)=\",theta/np.pi*180)\n",
    "\n"
   ]
  },
  {
   "cell_type": "code",
   "execution_count": null,
   "metadata": {},
   "outputs": [],
   "source": []
  }
 ],
 "metadata": {
  "kernelspec": {
   "display_name": "gsam",
   "language": "python",
   "name": "python3"
  },
  "language_info": {
   "codemirror_mode": {
    "name": "ipython",
    "version": 3
   },
   "file_extension": ".py",
   "mimetype": "text/x-python",
   "name": "python",
   "nbconvert_exporter": "python",
   "pygments_lexer": "ipython3",
   "version": "3.9.19"
  }
 },
 "nbformat": 4,
 "nbformat_minor": 2
}
